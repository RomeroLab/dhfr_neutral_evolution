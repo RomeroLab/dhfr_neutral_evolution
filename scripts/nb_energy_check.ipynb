{
 "cells": [
  {
   "cell_type": "code",
   "execution_count": 1,
   "metadata": {},
   "outputs": [],
   "source": [
    "# import functools\n",
    "# import operator\n",
    "# import pathlib\n",
    "import gzip\n",
    "\n",
    "import numpy as np\n",
    "import pandas as pd\n",
    "import matplotlib.pyplot as plt\n",
    "#import matplotlib.ticker as mtick\n",
    "\n",
    "#import seaborn as sns\n",
    "import torch\n",
    "\n",
    "import config\n",
    "# import plot_utils\n",
    "# import contacts\n",
    "import utils"
   ]
  },
  {
   "cell_type": "code",
   "execution_count": 2,
   "metadata": {},
   "outputs": [],
   "source": [
    "model_prefix = \"DHFR_incl_main_kit_taq\"\n",
    "DATADIR = config.WORKING_DIR"
   ]
  },
  {
   "cell_type": "code",
   "execution_count": 3,
   "metadata": {},
   "outputs": [],
   "source": [
    "L = config.L; q=20\n",
    "main_params = utils.load_torch_tensor(f\"{DATADIR}/{model_prefix}_{L}_main_params.pt.gz\")\n",
    "main_params_exp = torch.exp(main_params)\n",
    "main_params_prob= main_params_exp / main_params_exp.sum(1, keepdim=True)\n",
    "\n",
    "del_indices_pos = torch.argmin(main_params_prob, dim=1)\n",
    "# indices for the flattend matrix\n",
    "del_indices =  del_indices_pos + np.array(list(range(0,L*q,q)))\n",
    "\n",
    "h_ia_r = torch.load(f\"../working/{model_prefix}_h_i_a.pt\")\n",
    "e_ijab_r = torch.load(f\"../working/{model_prefix}_e_i_a_j_b.pt\")\n",
    "\n",
    "eta = torch.load(f\"../working/{model_prefix}_eta.pt\")\n",
    "J = torch.load(f\"../working/{model_prefix}_J.pt\")"
   ]
  },
  {
   "cell_type": "markdown",
   "metadata": {},
   "source": [
    "# Energy (from Gaussian Density)"
   ]
  },
  {
   "cell_type": "code",
   "execution_count": 4,
   "metadata": {},
   "outputs": [],
   "source": [
    "def msa_seq(seq):\n",
    "    L = config.L\n",
    "    q = 20\n",
    "    x=torch.zeros(L*q)\n",
    "    nzind = seq+ np.array(list(range(0,config.L*q,q)))\n",
    "    x[nzind]=1\n",
    "    return(x)"
   ]
  },
  {
   "cell_type": "code",
   "execution_count": 5,
   "metadata": {},
   "outputs": [
    {
     "name": "stderr",
     "output_type": "stream",
     "text": [
      "C:\\Users\\hps5320\\AppData\\Local\\Temp/ipykernel_21048/2267806709.py:4: UserWarning: To copy construct from a tensor, it is recommended to use sourceTensor.clone().detach() or sourceTensor.clone().detach().requires_grad_(True), rather than torch.tensor(sourceTensor).\n",
      "  seq_msa = torch.tensor(np.delete(seq_msa,del_indices,axis=0)) # reduced\n"
     ]
    },
    {
     "data": {
      "text/plain": [
       "tensor(0.7909)"
      ]
     },
     "execution_count": 5,
     "metadata": {},
     "output_type": "execute_result"
    }
   ],
   "source": [
    "seq = config.WT_AA_TENSOR\n",
    "\n",
    "seq_msa = msa_seq(seq)\n",
    "seq_msa = torch.tensor(np.delete(seq_msa,del_indices,axis=0)) # reduced\n",
    "-sum(eta * seq_msa - 1/2*seq_msa*torch.matmul(J,seq_msa)) # E(x) = -(eta'x -1/2 x'Jx)"
   ]
  },
  {
   "cell_type": "markdown",
   "metadata": {},
   "source": [
    "# Energy (MRF canonical params)"
   ]
  },
  {
   "cell_type": "code",
   "execution_count": 6,
   "metadata": {},
   "outputs": [],
   "source": [
    "def energy_main(h,e,aa):\n",
    "    field_sum = 0\n",
    "    for i in range(config.L):\n",
    "        field_sum += h[i,aa[i]] \n",
    "        \n",
    "    return(-field_sum)\n",
    "\n",
    "def energy_int(e,aa):\n",
    "    cpl_sum =0\n",
    "    for i in range(config.L):\n",
    "        for j in range(i+1,config.L):\n",
    "            cpl_sum += e[i,aa[i],j,aa[j]]\n",
    "            # cpl_sum += e[j,aa[j],i,aa[i]]\n",
    "    return(-cpl_sum)"
   ]
  },
  {
   "cell_type": "code",
   "execution_count": 7,
   "metadata": {},
   "outputs": [
    {
     "data": {
      "text/plain": [
       "tensor(0.7909, dtype=torch.float64)"
      ]
     },
     "execution_count": 7,
     "metadata": {},
     "output_type": "execute_result"
    }
   ],
   "source": [
    "energy_main(h_ia_r,e_ijab_r,seq) + energy_int(e_ijab_r, seq)"
   ]
  },
  {
   "cell_type": "markdown",
   "metadata": {},
   "source": [
    "# Energy (using utils)"
   ]
  },
  {
   "cell_type": "code",
   "execution_count": 8,
   "metadata": {},
   "outputs": [
    {
     "data": {
      "text/plain": [
       "tensor(0.7909)"
      ]
     },
     "execution_count": 8,
     "metadata": {},
     "output_type": "execute_result"
    }
   ],
   "source": [
    "utils.calc_energy_pytorch(seq, h_ia_r, e_ijab_r)"
   ]
  }
 ],
 "metadata": {
  "kernelspec": {
   "display_name": "Python 3 (ipykernel)",
   "language": "python",
   "name": "python3"
  },
  "language_info": {
   "codemirror_mode": {
    "name": "ipython",
    "version": 3
   },
   "file_extension": ".py",
   "mimetype": "text/x-python",
   "name": "python",
   "nbconvert_exporter": "python",
   "pygments_lexer": "ipython3",
   "version": "3.8.6"
  }
 },
 "nbformat": 4,
 "nbformat_minor": 4
}
