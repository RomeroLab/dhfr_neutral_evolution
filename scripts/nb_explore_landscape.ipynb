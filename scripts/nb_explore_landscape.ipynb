{
 "cells": [
  {
   "cell_type": "code",
   "execution_count": 1,
   "metadata": {},
   "outputs": [],
   "source": [
    "import numpy as np\n",
    "import torch\n",
    "\n",
    "import config\n",
    "import utils\n",
    "\n",
    "from energy_py import EnergyFunctionCalculator, energy_calc_msa, energy_calc_single\n",
    "import energy_py\n",
    "\n",
    "WT = config.WT_AA_TENSOR.numpy()\n"
   ]
  },
  {
   "cell_type": "code",
   "execution_count": 2,
   "metadata": {},
   "outputs": [],
   "source": [
    "model_prefix = \"DHFR_incl_main_kit_taq_mse\"\n",
    "\n",
    "\n",
    "h_i_a = torch.load(f\"../working/{model_prefix}_h_i_a.pt\").numpy()\n",
    "e_i_a_j_b = torch.load(f\"../working/{model_prefix}_e_i_a_j_b.pt\").numpy()\n",
    "#e_i_a_j_b = e_i_a_j_b / 2.\n",
    "\n",
    "energy_calc = EnergyFunctionCalculator(h_i_a, e_i_a_j_b)"
   ]
  },
  {
   "cell_type": "code",
   "execution_count": 3,
   "metadata": {},
   "outputs": [
    {
     "data": {
      "text/plain": [
       "array(0.7909182)"
      ]
     },
     "execution_count": 3,
     "metadata": {},
     "output_type": "execute_result"
    }
   ],
   "source": [
    "WT_energy = energy_calc(WT) # lower is fitter\n",
    "WT_energy"
   ]
  },
  {
   "cell_type": "code",
   "execution_count": 4,
   "metadata": {},
   "outputs": [
    {
     "data": {
      "text/plain": [
       "array(1.59818514)"
      ]
     },
     "execution_count": 4,
     "metadata": {},
     "output_type": "execute_result"
    }
   ],
   "source": [
    "energy_calc(np.random.randint(20, size=config.L))"
   ]
  },
  {
   "cell_type": "code",
   "execution_count": 5,
   "metadata": {},
   "outputs": [],
   "source": [
    "# for amino acid index i we have a list of all the other amino acids indices\n",
    "# this makes it easy to pick an actual mutation and make sure we are not picking the \n",
    "# same amino acid\n",
    "mut_l = [[j for j in range(config.AA_L) if j != i] for i in range(config.AA_L)]"
   ]
  },
  {
   "cell_type": "code",
   "execution_count": 6,
   "metadata": {},
   "outputs": [],
   "source": [
    "def mutate_protein(single_mutant_idx, prot):\n",
    "    \"\"\"\n",
    "        * single_mutant_idx * : an integer from the array single_mutant_indexer\n",
    "                                (integer in the range 0 -> 186 * 19)\n",
    "        * prot *              : any protein as a numpy array\n",
    "                                (integer array of length 186 with vals between \n",
    "                                 0 and 19 (inclusive))\n",
    "    \"\"\"\n",
    "    mut = prot.copy()\n",
    "    # which mutant index is selected from the mut_l array\n",
    "    mut_aa_idx = single_mutant_idx % (config.AA_L - 1)\n",
    "    # which site is mutated\n",
    "    mut_site_idx = single_mutant_idx // (config.AA_L - 1)\n",
    "    # first find out what site is mutated in prot\n",
    "    # and then selected the mut_aa_idx value to find out what it mutates to\n",
    "    new_aa = mut_l[prot[mut_site_idx]][mut_aa_idx]\n",
    "    mut[mut_site_idx] = new_aa\n",
    "    return mut\n",
    "\n",
    "# testing function mutate_protein\n",
    "np.random.seed(0)\n",
    "test_start_prot = np.random.randint(config.AA_L, size=config.L)\n",
    "\n",
    "test_mutated_prot = mutate_protein(1000, test_start_prot)\n",
    "\n",
    "# site 52 (== 1000//19) should be the only site mutated\n",
    "assert(np.where(test_mutated_prot != test_start_prot)[0].item() == 1000 // 19)\n",
    "\n",
    "# what it should have been mutated to\n",
    "assert(mut_l[test_start_prot[52]][1000 % 19] == test_mutated_prot[52])\n",
    "\n",
    "# assert site 52 is different\n",
    "assert(test_start_prot[52] != test_mutated_prot[52])"
   ]
  },
  {
   "cell_type": "code",
   "execution_count": 7,
   "metadata": {},
   "outputs": [],
   "source": [
    "num_single_mutants = (config.AA_L - 1) * config.L\n",
    "\n",
    "# create an index list of 19*186 mutants\n",
    "single_mutant_indexer = np.arange(num_single_mutants)"
   ]
  },
  {
   "cell_type": "code",
   "execution_count": 8,
   "metadata": {},
   "outputs": [],
   "source": [
    "best_designed = 'AQPLNCIVAVSRDMGIANEGGLPWPPLHSELRHFRRMTAICSAEGRRNIVIIGHNTWCSIPEESRPLRGRVNIVLSHKLEEPPQCAHFLAKGLDGALQLVERNELSPRADKVWIIGGRSAYREAIDRHGRVMLFVTRIMHECKCNTFFPEIDSSIYILLHKYPGVPSGVQEEEGIRYRFAVYVKRV'"
   ]
  },
  {
   "cell_type": "code",
   "execution_count": 9,
   "metadata": {},
   "outputs": [],
   "source": [
    "best_designed_start = np.array(list(map(config.AA_MAP.get, best_designed)))"
   ]
  },
  {
   "cell_type": "code",
   "execution_count": 11,
   "metadata": {},
   "outputs": [],
   "source": [
    "start_seed_offset = 0\n",
    "np.random.seed(100 + start_seed_offset)\n",
    "\n",
    "#start_protein = np.random.randint(config.AA_L, size=config.L)\n",
    "start_protein = best_designed_start\n",
    "\n",
    "start_energy = energy_calc(start_protein)"
   ]
  },
  {
   "cell_type": "code",
   "execution_count": 12,
   "metadata": {},
   "outputs": [],
   "source": [
    "def calc_dist(p1, p2=WT):\n",
    "    return int(sum(p1 != p2))"
   ]
  },
  {
   "cell_type": "code",
   "execution_count": 13,
   "metadata": {},
   "outputs": [
    {
     "name": "stdout",
     "output_type": "stream",
     "text": [
      "Starting mutant : 0.7557  wt-distance : 077\n",
      "Found Better mutant : 0.7550 wt-distance : 076\n",
      "Found Better mutant : 0.7549 wt-distance : 077\n",
      "Found Better mutant : 0.7549 wt-distance : 078\n",
      "Found Better mutant : 0.7549 wt-distance : 079\n",
      "No more mutants found\n"
     ]
    }
   ],
   "source": [
    "current_protein = start_protein\n",
    "current_energy = start_energy\n",
    "\n",
    "print(f\"Starting mutant : {current_energy:.4f} \", \n",
    "      f\"wt-distance : {calc_dist(current_protein):03d}\")\n",
    "\n",
    "while True:\n",
    "    np.random.shuffle(single_mutant_indexer)\n",
    "    found_better = False\n",
    "    for single_mutant_idx in single_mutant_indexer:\n",
    "        mutant_protein = mutate_protein(single_mutant_idx, current_protein)\n",
    "        mutant_energy = energy_calc(mutant_protein)\n",
    "        if mutant_energy < current_energy:\n",
    "            current_protein = mutant_protein\n",
    "            current_energy = mutant_energy\n",
    "            found_better = True\n",
    "            print(f\"Found Better mutant : {current_energy:.4f} \"\n",
    "                  f\"wt-distance : {calc_dist(current_protein):03d}\")\n",
    "            break\n",
    "    if found_better is False:\n",
    "        # we didn't find anything better. Terminate the search\n",
    "        print(\"No more mutants found\")\n",
    "        break\n",
    "    "
   ]
  },
  {
   "cell_type": "code",
   "execution_count": 14,
   "metadata": {},
   "outputs": [
    {
     "data": {
      "text/plain": [
       "'AQPLNCIAAVSRDMGIANEGGLPWPPLHSELRHFRRMTAICSAEGRRNIVIIGHNTWCSIPEESRPLRGRVNIVLSHKLEEPPQCAHFLAEGLDGALQLVERNELSPRADKVWIIGGRSAYREAIDRHGRVRLFVTRIMHECKCNTFFPEIDSSIYILLHKYPGVPGGVQEEEGIRYRFAVYVKRV'"
      ]
     },
     "execution_count": 14,
     "metadata": {},
     "output_type": "execute_result"
    }
   ],
   "source": [
    "config.prot_to_string(current_protein)"
   ]
  },
  {
   "cell_type": "code",
   "execution_count": 15,
   "metadata": {},
   "outputs": [],
   "source": [
    "import json"
   ]
  },
  {
   "cell_type": "code",
   "execution_count": 16,
   "metadata": {},
   "outputs": [],
   "source": [
    "output_dir = f\"{config.WORKING_DIR}/adaptive_walk\""
   ]
  },
  {
   "cell_type": "code",
   "execution_count": 17,
   "metadata": {},
   "outputs": [
    {
     "data": {
      "text/plain": [
       "{'start_protein': 'AQPLNCIVAVSRDMGIANEGGLPWPPLHSELRHFRRMTAICSAEGRRNIVIIGHNTWCSIPEESRPLRGRVNIVLSHKLEEPPQCAHFLAKGLDGALQLVERNELSPRADKVWIIGGRSAYREAIDRHGRVMLFVTRIMHECKCNTFFPEIDSSIYILLHKYPGVPSGVQEEEGIRYRFAVYVKRV',\n",
       " 'start_energy': 0.7556595998957689,\n",
       " 'start_dist_wt': 77,\n",
       " 'end_protein': 'AQPLNCIAAVSRDMGIANEGGLPWPPLHSELRHFRRMTAICSAEGRRNIVIIGHNTWCSIPEESRPLRGRVNIVLSHKLEEPPQCAHFLAEGLDGALQLVERNELSPRADKVWIIGGRSAYREAIDRHGRVRLFVTRIMHECKCNTFFPEIDSSIYILLHKYPGVPGGVQEEEGIRYRFAVYVKRV',\n",
       " 'end_energy': 0.7548759151352911,\n",
       " 'end_dist_wt': 79}"
      ]
     },
     "execution_count": 17,
     "metadata": {},
     "output_type": "execute_result"
    }
   ],
   "source": [
    "results = {'start_protein':config.prot_to_string(start_protein),\n",
    "           'start_energy':start_energy.item(),\n",
    "           'start_dist_wt':calc_dist(start_protein),\n",
    "           'end_protein':config.prot_to_string(current_protein),\n",
    "           'end_energy':current_energy.item(),\n",
    "           'end_dist_wt': calc_dist(current_protein)}\n",
    "results"
   ]
  },
  {
   "cell_type": "code",
   "execution_count": 18,
   "metadata": {},
   "outputs": [],
   "source": [
    "# with open(f\"{output_dir}/walk_{start_seed_offset}.json\", \"w\", encoding=\"utf-8\") as outf:\n",
    "#     json.dump(results, outf, ensure_ascii=True, indent=4)"
   ]
  },
  {
   "cell_type": "code",
   "execution_count": 21,
   "metadata": {},
   "outputs": [
    {
     "data": {
      "text/plain": [
       "'AQPLNCIAAVSRDMGIANEGGLPWPPLHSELRHFRRMTAICSAEGRRNIVIIGHNTWCSIPEESRPLRGRVNIVLSHKLEEPPQCAHFLAEGLDGALQLVERNELSPRADKVWIIGGRSAYREAIDRHGRVRLFVTRIMHECKCNTFFPEIDSSIYILLHKYPGVPGGVQEEEGIRYRFAVYVKRV'"
      ]
     },
     "execution_count": 21,
     "metadata": {},
     "output_type": "execute_result"
    }
   ],
   "source": [
    "end_protein = config.prot_to_string(current_protein)\n",
    "end_protein\n"
   ]
  },
  {
   "cell_type": "code",
   "execution_count": 20,
   "metadata": {},
   "outputs": [],
   "source": [
    "fuji_seq = \"AQPLNCIAAVSRDMGIANEGGLPWPPLHSELRHFRRMTAICSAEGRRNIVIIGHNTWCSIPEESRPLRGRVNIVLSHKLEEPPQCAHFLAEGLDGALQLVERNELSPRADKVWIIGGRSAYREAIDRHGRVRLFVTRIMHECKCNTFFPEIDSSIYILLHKYPGVPGGVQEEEGIRYRFAVYVKRV\""
   ]
  },
  {
   "cell_type": "code",
   "execution_count": 23,
   "metadata": {},
   "outputs": [],
   "source": [
    "assert(fuji_seq == end_protein)"
   ]
  }
 ],
 "metadata": {
  "kernelspec": {
   "display_name": "dhfr_analysis",
   "language": "python",
   "name": "dhfr_analysis"
  },
  "language_info": {
   "codemirror_mode": {
    "name": "ipython",
    "version": 3
   },
   "file_extension": ".py",
   "mimetype": "text/x-python",
   "name": "python",
   "nbconvert_exporter": "python",
   "pygments_lexer": "ipython3",
   "version": "3.8.5"
  }
 },
 "nbformat": 4,
 "nbformat_minor": 4
}
